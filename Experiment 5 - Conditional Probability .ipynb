{
 "cells": [
  {
   "cell_type": "code",
   "execution_count": null,
   "id": "6d5c651c",
   "metadata": {},
   "outputs": [],
   "source": [
    "import pandas as pd "
   ]
  },
  {
   "cell_type": "code",
   "execution_count": null,
   "id": "c9d64ebc",
   "metadata": {},
   "outputs": [],
   "source": [
    "data=pd.read_csv(\"datas_z.txt\")\n",
    "print(data)"
   ]
  },
  {
   "cell_type": "code",
   "execution_count": 113,
   "id": "d4b3d183",
   "metadata": {},
   "outputs": [
    {
     "name": "stdout",
     "output_type": "stream",
     "text": [
      "the total number of records are:10\n"
     ]
    }
   ],
   "source": [
    "total_records=len(data)\n",
    "print(\"The total number of records are :\",total_records)"
   ]
  },
  {
   "cell_type": "code",
   "execution_count": 116,
   "id": "cf0768b8",
   "metadata": {},
   "outputs": [
    {
     "name": "stdout",
     "output_type": "stream",
     "text": [
      "no of recreation as golf 4\n"
     ]
    }
   ],
   "source": [
    "golf=len(data[data['recreation']=='golf'])\n",
    "print(\"Number of recreation as golf :\",golf)"
   ]
  },
  {
   "cell_type": "code",
   "execution_count": 20,
   "id": "168c6336",
   "metadata": {},
   "outputs": [],
   "source": [
    "prob_golf=golf/total_records\n",
    "print(\"Unconditional Probability of golf is :\",prob_golf)"
   ]
  },
  {
   "cell_type": "code",
   "execution_count": 121,
   "id": "1e3155a5",
   "metadata": {},
   "outputs": [
    {
     "name": "stdout",
     "output_type": "stream",
     "text": [
      "records having risk as medrisk:3\n"
     ]
    }
   ],
   "source": [
    "medrisk=len(data[data['risk']=='medRisk'])\n",
    "print(\"Records having risk as medrisk :\",medrisk)"
   ]
  },
  {
   "cell_type": "code",
   "execution_count": 127,
   "id": "1be413ef",
   "metadata": {},
   "outputs": [
    {
     "name": "stdout",
     "output_type": "stream",
     "text": [
      "records having risk as medrisk and status as single :2\n"
     ]
    }
   ],
   "source": [
    "medrisk_single=len(data[(data['risk']=='medRisk') & (data['status']=='single')])\n",
    "print(\"Records having risk as medrisk and status as single :\",no_medrisk_single)"
   ]
  },
  {
   "cell_type": "code",
   "execution_count": 128,
   "id": "f03abd8c",
   "metadata": {},
   "outputs": [],
   "source": [
    "prob_medrisk_single=medrisk_single/total_records\n",
    "prob_medrisk=medrisk/total_records\n",
    "con_prob=prob_medrisk_single/prob_medrisk\n",
    "print(\"The probability of status being single given risk is medrisk :\",round(con_prob,3))"
   ]
  }
 ],
 "metadata": {
  "kernelspec": {
   "display_name": "Python 3 (ipykernel)",
   "language": "python",
   "name": "python3"
  },
  "language_info": {
   "codemirror_mode": {
    "name": "ipython",
    "version": 3
   },
   "file_extension": ".py",
   "mimetype": "text/x-python",
   "name": "python",
   "nbconvert_exporter": "python",
   "pygments_lexer": "ipython3",
   "version": "3.11.4"
  }
 },
 "nbformat": 4,
 "nbformat_minor": 5
}
