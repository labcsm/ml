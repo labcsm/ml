{
 "cells": [
  {
   "cell_type": "markdown",
   "id": "9f3a46d2",
   "metadata": {},
   "source": [
    "# DataSet\n",
    "![data](image(1).png)\n"
   ]
  },
  {
   "cell_type": "code",
   "execution_count": 57,
   "id": "5e18005b",
   "metadata": {},
   "outputs": [
    {
     "data": {
      "text/plain": [
       "array([[30.0, 'unemployed', 'married', 1787.0, 'no', 'no', 'cellular',\n",
       "        'oct'],\n",
       "       [33.0, 'services', 'married', 4789.0, 'yes', 'yes', 'cellular',\n",
       "        'may'],\n",
       "       [35.0, 'management', 'single', 1350.0, 'yes', 'no', 'cellular',\n",
       "        'apr'],\n",
       "       [30.0, 'management', 'married', 1476.0, 'yes', 'yes', 'unknown',\n",
       "        'jun'],\n",
       "       [59.0, 'blue-collar', 'married', 0.0, 'yes', 'no', 'unknown',\n",
       "        'may'],\n",
       "       [35.0, 'management', 'single', 747.0, 'no', 'no', 'cellular',\n",
       "        'feb'],\n",
       "       [36.0, 'self-employed', 'married', 307.0, 'yes', 'no', 'cellular',\n",
       "        'may'],\n",
       "       [39.0, 'technician', 'married', 147.0, 'yes', 'no', 'cellular',\n",
       "        'may'],\n",
       "       [41.0, 'entrepreneur', 'married', 221.0, 'yes', 'no', 'unknown',\n",
       "        'may'],\n",
       "       [43.0, 'services', 'married', -88.0, 'yes', 'yes', 'cellular',\n",
       "        'apr'],\n",
       "       [39.0, 'services', 'married', 9374.0, 'yes', 'no', 'unknown',\n",
       "        'may'],\n",
       "       [43.0, 'admin.', 'married', 264.0, 'yes', 'no', 'cellular', 'apr'],\n",
       "       [36.0, 'technician', 'married', 1109.0, 'no', 'no', 'cellular',\n",
       "        'aug'],\n",
       "       [20.0, 'student', 'single', 502.0, 'no', 'no', 'cellular', 'apr'],\n",
       "       [31.0, 'blue-collar', 'married', 360.0, 'yes', 'yes', 'cellular',\n",
       "        'jan'],\n",
       "       [40.0, 'management', 'married', 194.0, 'no', 'yes', 'cellular',\n",
       "        'aug'],\n",
       "       [56.0, 'technician', 'married', 4073.0, 'no', 'no', 'cellular',\n",
       "        'aug'],\n",
       "       [37.0, 'admin.', 'single', 2317.0, 'yes', 'no', 'cellular', 'apr'],\n",
       "       [25.0, 'blue-collar', 'single', -221.0, 'yes', 'no', 'unknown',\n",
       "        'may'],\n",
       "       [31.0, 'services', 'married', 132.0, 'no', 'no', 'cellular',\n",
       "        'jul']], dtype=object)"
      ]
     },
     "execution_count": 57,
     "metadata": {},
     "output_type": "execute_result"
    }
   ],
   "source": [
    "import numpy as np\n",
    "data = np.array([[30.0, 'unemployed', 'married', 1787.0, 'no', 'no', 'cellular','oct'],\n",
    "\n",
    "       [33.0, 'services', 'married', 4789.0, 'yes', 'yes', 'cellular','may'],\n",
    "\n",
    "       [35.0, 'management', 'single', 1350.0, 'yes', 'no', 'cellular','apr'],\n",
    "\n",
    "       [30.0, 'management', 'married', 1476.0, 'yes', 'yes', 'unknown','jun'],\n",
    "\n",
    "       [59.0, 'blue-collar', 'married', 0.0, 'yes', 'no', 'unknown','may'],\n",
    "\n",
    "       [35.0, 'management', 'single', 747.0, 'no', 'no', 'cellular','feb'],\n",
    "\n",
    "       [36.0, 'self-employed', 'married', 307.0, 'yes', 'no', 'cellular','may'],\n",
    "\n",
    "       [39.0, 'technician', 'married', 147.0, 'yes', 'no', 'cellular','may'],\n",
    "\n",
    "       [41.0, 'entrepreneur', 'married', 221.0, 'yes', 'no', 'unknown','may'],\n",
    "\n",
    "       [43.0, 'services', 'married', -88.0, 'yes', 'yes', 'cellular','apr'],\n",
    "\n",
    "       [39.0, 'services', 'married', 9374.0, 'yes', 'no', 'unknown','may'],\n",
    "\n",
    "       [43.0, 'admin.', 'married', 264.0, 'yes', 'no', 'cellular', 'apr'],\n",
    "\n",
    "       [36.0, 'technician', 'married', 1109.0, 'no', 'no', 'cellular','aug'],\n",
    "\n",
    "       [20.0, 'student', 'single', 502.0, 'no', 'no', 'cellular', 'apr'],\n",
    "\n",
    "       [31.0, 'blue-collar', 'married', 360.0, 'yes', 'yes', 'cellular','jan'],\n",
    "\n",
    "       [40.0, 'management', 'married', 194.0, 'no', 'yes', 'cellular','aug'],\n",
    "\n",
    "       [56.0, 'technician', 'married', 4073.0, 'no', 'no', 'cellular','aug'],\n",
    "\n",
    "       [37.0, 'admin.', 'single', 2317.0, 'yes', 'no', 'cellular', 'apr'],\n",
    "\n",
    "       [25.0, 'blue-collar', 'single', -221.0, 'yes', 'no', 'unknown','may'],\n",
    "\n",
    "       [31.0, 'services', 'married', 132.0, 'no', 'no', 'cellular','jul']], dtype=object)\n",
    "data"
   ]
  },
  {
   "cell_type": "markdown",
   "id": "732cb63b",
   "metadata": {},
   "source": [
    "## 1.What is the total bank balance of the first 5 records from the data?"
   ]
  },
  {
   "cell_type": "code",
   "execution_count": 58,
   "id": "04ecd852",
   "metadata": {},
   "outputs": [
    {
     "data": {
      "text/plain": [
       "9402.0"
      ]
     },
     "execution_count": 58,
     "metadata": {},
     "output_type": "execute_result"
    }
   ],
   "source": [
    "np.sum(data[:5,3])"
   ]
  },
  {
   "cell_type": "markdown",
   "id": "a73bb559",
   "metadata": {},
   "source": [
    "## 2. What is the average bank balance?"
   ]
  },
  {
   "cell_type": "code",
   "execution_count": 59,
   "id": "117d1952",
   "metadata": {},
   "outputs": [
    {
     "data": {
      "text/plain": [
       "1442.0"
      ]
     },
     "execution_count": 59,
     "metadata": {},
     "output_type": "execute_result"
    }
   ],
   "source": [
    "np.mean(data[:,3])"
   ]
  },
  {
   "cell_type": "markdown",
   "id": "16805f6a",
   "metadata": {},
   "source": [
    "## 3. Count the number of people who has a housing?"
   ]
  },
  {
   "cell_type": "code",
   "execution_count": 69,
   "id": "ec02ce92",
   "metadata": {},
   "outputs": [
    {
     "name": "stdout",
     "output_type": "stream",
     "text": [
      "Indices of people with housing :  (array([ 1,  2,  3,  4,  6,  7,  8,  9, 10, 11, 14, 17, 18], dtype=int64),)\n"
     ]
    }
   ],
   "source": [
    "print(\"Indices of people with housing : \",np.where(data[:,4]==\"yes\"))"
   ]
  },
  {
   "cell_type": "code",
   "execution_count": 67,
   "id": "d5a7aec2",
   "metadata": {},
   "outputs": [
    {
     "name": "stdout",
     "output_type": "stream",
     "text": [
      "Indices of people with housing :  13\n"
     ]
    }
   ],
   "source": [
    "print(\"Number of people with housing : \",len(np.where(data[:,4]==\"yes\")[0]))"
   ]
  },
  {
   "cell_type": "markdown",
   "id": "f6d0c29d",
   "metadata": {},
   "source": [
    "## 4. No of people who have a \"cellular\" contact and also \"married\" and hold a \"management\" job?"
   ]
  },
  {
   "cell_type": "code",
   "execution_count": 72,
   "id": "61aedd29",
   "metadata": {},
   "outputs": [
    {
     "name": "stdout",
     "output_type": "stream",
     "text": [
      "Indices of people Satisfying all 3 conditions :  [15]\n",
      "Number of people Satisfying all 3 conditions :  1\n"
     ]
    }
   ],
   "source": [
    "c1=data[:,1]==\"management\"\n",
    "c2=data[:,6]=='cellular'\n",
    "c3=data[:,2]=='married'\n",
    "print(\"Indices of people Satisfying all 3 conditions : \",np.where(c1 & c2 & c3)[0])\n",
    "print(\"Number of people Satisfying all 3 conditions : \",len(np.where(c1 & c2 & c3)[0]))\n"
   ]
  },
  {
   "cell_type": "code",
   "execution_count": null,
   "id": "8a3bd817",
   "metadata": {},
   "outputs": [],
   "source": []
  }
 ],
 "metadata": {
  "kernelspec": {
   "display_name": "Python 3 (ipykernel)",
   "language": "python",
   "name": "python3"
  },
  "language_info": {
   "codemirror_mode": {
    "name": "ipython",
    "version": 3
   },
   "file_extension": ".py",
   "mimetype": "text/x-python",
   "name": "python",
   "nbconvert_exporter": "python",
   "pygments_lexer": "ipython3",
   "version": "3.11.4"
  }
 },
 "nbformat": 4,
 "nbformat_minor": 5
}
