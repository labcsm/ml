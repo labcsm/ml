{
  "nbformat": 4,
  "nbformat_minor": 0,
  "metadata": {
    "colab": {
      "provenance": []
    },
    "kernelspec": {
      "name": "python3",
      "display_name": "Python 3"
    },
    "language_info": {
      "name": "python"
    }
  },
  "cells": [
    {
      "cell_type": "markdown",
      "source": [
        "# Numpy Basics\n",
        "## Create an array of 10 elements.\n",
        "1. Find the unique elements\n",
        "2. Add 5 elements in array\n",
        "3. Delete 2 elements\n",
        "4. Update an element at position 3\n",
        "\n",
        "## Create another array of 5 elements\n",
        "1. Add two arrays\n",
        "2. Append the arrays\n",
        "3. Find the common elements between two arrays\n",
        "\n",
        "## Create an array of order 5X5\n",
        "1. Find the average of the 3rd column\n",
        "2. Count number of non zero elements in 4th column\n",
        "3. Find max and min values in the entire array\n",
        "4. Print elements greater than 2 in second column\n",
        "5. Find the  row having the max element\n",
        "\n"
      ],
      "metadata": {
        "id": "x1UpcNaO24c-"
      }
    },
    {
      "cell_type": "code",
      "source": [
        "import numpy as np\n",
        "arr1=np.array([1,2,3,3,4,6,7,8,9,10])\n",
        "arr1"
      ],
      "metadata": {
        "colab": {
          "base_uri": "https://localhost:8080/"
        },
        "id": "awb6l1Oj5RZF",
        "outputId": "c348c464-9373-4f37-8a8e-3b87076cba90"
      },
      "execution_count": 2,
      "outputs": [
        {
          "output_type": "execute_result",
          "data": {
            "text/plain": [
              "array([ 1,  2,  3,  3,  4,  6,  7,  8,  9, 10])"
            ]
          },
          "metadata": {},
          "execution_count": 2
        }
      ]
    },
    {
      "cell_type": "code",
      "source": [
        "np.unique(arr1)"
      ],
      "metadata": {
        "colab": {
          "base_uri": "https://localhost:8080/"
        },
        "id": "vmvhE_u96HRk",
        "outputId": "b2493cb8-7d5e-4dd3-a4dd-500715e4447a"
      },
      "execution_count": 3,
      "outputs": [
        {
          "output_type": "execute_result",
          "data": {
            "text/plain": [
              "array([ 1,  2,  3,  4,  6,  7,  8,  9, 10])"
            ]
          },
          "metadata": {},
          "execution_count": 3
        }
      ]
    },
    {
      "cell_type": "code",
      "source": [
        "x=np.array([11,20,50,30,2])\n",
        "arr1=np.concatenate((arr1,x))\n",
        "arr1"
      ],
      "metadata": {
        "colab": {
          "base_uri": "https://localhost:8080/"
        },
        "id": "czyaFJEG6M3u",
        "outputId": "5aa500b4-4aff-4b58-9030-6f7e0859dec6"
      },
      "execution_count": 10,
      "outputs": [
        {
          "output_type": "execute_result",
          "data": {
            "text/plain": [
              "array([ 1,  2,  3,  3,  4,  6,  7,  8,  9, 10, 11, 20, 50, 30,  2])"
            ]
          },
          "metadata": {},
          "execution_count": 10
        }
      ]
    },
    {
      "cell_type": "code",
      "source": [
        "# give indices to delete as second argument\n",
        "arr1=np.delete(arr1,[2,5])"
      ],
      "metadata": {
        "id": "Zwf8rAPV7KMo"
      },
      "execution_count": 14,
      "outputs": []
    },
    {
      "cell_type": "code",
      "source": [
        "arr1[3]=100\n",
        "arr1"
      ],
      "metadata": {
        "colab": {
          "base_uri": "https://localhost:8080/"
        },
        "id": "eoHs5WGi8NqE",
        "outputId": "b5aa9c2d-7b67-4729-e639-1d3d0ca6c4b1"
      },
      "execution_count": 15,
      "outputs": [
        {
          "output_type": "execute_result",
          "data": {
            "text/plain": [
              "array([  1,   2, 100, 100,   7,   8,   9,  10,  11,  20,  50,  30,   2])"
            ]
          },
          "metadata": {},
          "execution_count": 15
        }
      ]
    },
    {
      "cell_type": "code",
      "source": [
        "arr2=np.array([101,102,103,104])\n",
        "arr2"
      ],
      "metadata": {
        "colab": {
          "base_uri": "https://localhost:8080/"
        },
        "id": "3BV8VqI98dK4",
        "outputId": "358d314b-a38b-40a0-f951-c7cc7f54a369"
      },
      "execution_count": 16,
      "outputs": [
        {
          "output_type": "execute_result",
          "data": {
            "text/plain": [
              "array([101, 102, 103, 104])"
            ]
          },
          "metadata": {},
          "execution_count": 16
        }
      ]
    },
    {
      "cell_type": "code",
      "source": [
        "arr2=np.append(arr2,[10,20,30])\n",
        "arr2"
      ],
      "metadata": {
        "colab": {
          "base_uri": "https://localhost:8080/"
        },
        "id": "ZnEAbZ1Z9Mbw",
        "outputId": "58439c26-9c21-4136-f526-43cfc532f13b"
      },
      "execution_count": 17,
      "outputs": [
        {
          "output_type": "execute_result",
          "data": {
            "text/plain": [
              "array([101, 102, 103, 104,  10,  20,  30])"
            ]
          },
          "metadata": {},
          "execution_count": 17
        }
      ]
    },
    {
      "cell_type": "code",
      "source": [
        "# gives common elements in both arrays\n",
        "np.intersect1d(arr1,arr2)"
      ],
      "metadata": {
        "colab": {
          "base_uri": "https://localhost:8080/"
        },
        "id": "eAqzNKqk9XWw",
        "outputId": "3407f36f-53dc-4667-b99c-14e42f42c6c2"
      },
      "execution_count": 18,
      "outputs": [
        {
          "output_type": "execute_result",
          "data": {
            "text/plain": [
              "array([10, 20, 30])"
            ]
          },
          "metadata": {},
          "execution_count": 18
        }
      ]
    },
    {
      "cell_type": "code",
      "source": [
        "# takes random integers from given range (1,10)--first argument\n",
        "# shape 5X5 ---second argument\n",
        "arr3=np.random.randint(1,10,(5,5))\n",
        "arr3"
      ],
      "metadata": {
        "colab": {
          "base_uri": "https://localhost:8080/"
        },
        "id": "Z94KOekB9g1t",
        "outputId": "7d8fd9ad-da66-4e34-a62a-86eca43c4237"
      },
      "execution_count": 46,
      "outputs": [
        {
          "output_type": "execute_result",
          "data": {
            "text/plain": [
              "array([[8, 7, 2, 9, 7],\n",
              "       [3, 3, 6, 6, 7],\n",
              "       [7, 4, 5, 9, 2],\n",
              "       [1, 2, 1, 9, 2],\n",
              "       [6, 6, 6, 8, 7]])"
            ]
          },
          "metadata": {},
          "execution_count": 46
        }
      ]
    },
    {
      "cell_type": "code",
      "source": [
        "column3=arr3[:,2]\n",
        "column3"
      ],
      "metadata": {
        "colab": {
          "base_uri": "https://localhost:8080/"
        },
        "id": "G9h9LqZR99pR",
        "outputId": "cf648995-6b8f-4694-997d-5293268c7768"
      },
      "execution_count": 47,
      "outputs": [
        {
          "output_type": "execute_result",
          "data": {
            "text/plain": [
              "array([2, 6, 5, 1, 6])"
            ]
          },
          "metadata": {},
          "execution_count": 47
        }
      ]
    },
    {
      "cell_type": "code",
      "source": [
        "column3.mean()"
      ],
      "metadata": {
        "colab": {
          "base_uri": "https://localhost:8080/"
        },
        "id": "zPXu16Y--Cmx",
        "outputId": "3e8cef49-67f4-431c-eee7-f99ba83cef5c"
      },
      "execution_count": 48,
      "outputs": [
        {
          "output_type": "execute_result",
          "data": {
            "text/plain": [
              "4.0"
            ]
          },
          "metadata": {},
          "execution_count": 48
        }
      ]
    },
    {
      "cell_type": "code",
      "source": [
        "non=np.nonzero(arr3[:,3])\n",
        "len(non[0])"
      ],
      "metadata": {
        "colab": {
          "base_uri": "https://localhost:8080/"
        },
        "id": "lkioJ25c-k4V",
        "outputId": "74eeb015-d735-4eb5-b00f-a0c0cc6c8712"
      },
      "execution_count": 49,
      "outputs": [
        {
          "output_type": "execute_result",
          "data": {
            "text/plain": [
              "5"
            ]
          },
          "metadata": {},
          "execution_count": 49
        }
      ]
    },
    {
      "cell_type": "code",
      "source": [
        "np.count_nonzero(arr3[:,3])"
      ],
      "metadata": {
        "colab": {
          "base_uri": "https://localhost:8080/"
        },
        "id": "fKcAY6K4-uth",
        "outputId": "c461a17e-c7ae-453a-b6b9-9086e796da7c"
      },
      "execution_count": 50,
      "outputs": [
        {
          "output_type": "execute_result",
          "data": {
            "text/plain": [
              "5"
            ]
          },
          "metadata": {},
          "execution_count": 50
        }
      ]
    },
    {
      "cell_type": "code",
      "source": [
        "arr3.min()"
      ],
      "metadata": {
        "colab": {
          "base_uri": "https://localhost:8080/"
        },
        "id": "DDR9WqOTA2_w",
        "outputId": "fd283b51-fe5c-4c7b-fd29-6148413312d7"
      },
      "execution_count": 51,
      "outputs": [
        {
          "output_type": "execute_result",
          "data": {
            "text/plain": [
              "1"
            ]
          },
          "metadata": {},
          "execution_count": 51
        }
      ]
    },
    {
      "cell_type": "code",
      "source": [
        "arr3.max()"
      ],
      "metadata": {
        "colab": {
          "base_uri": "https://localhost:8080/"
        },
        "id": "a60R1B6WBA9L",
        "outputId": "99c8a3f2-f32b-4c72-d9bb-260bd04807bf"
      },
      "execution_count": 52,
      "outputs": [
        {
          "output_type": "execute_result",
          "data": {
            "text/plain": [
              "9"
            ]
          },
          "metadata": {},
          "execution_count": 52
        }
      ]
    },
    {
      "cell_type": "code",
      "source": [
        "# where funtion returns the indices of places where the condition is satisfied\n",
        "i=np.where(arr3[:,1]>2)\n",
        "arr3[i,1]"
      ],
      "metadata": {
        "colab": {
          "base_uri": "https://localhost:8080/"
        },
        "id": "ddruGkQjBCqx",
        "outputId": "2c08cc3c-068d-4ce1-c560-0c02c09d8f85"
      },
      "execution_count": 53,
      "outputs": [
        {
          "output_type": "execute_result",
          "data": {
            "text/plain": [
              "array([[7, 3, 4, 6]])"
            ]
          },
          "metadata": {},
          "execution_count": 53
        }
      ]
    },
    {
      "cell_type": "code",
      "source": [
        "ind=np.where(arr3==np.max(arr3))\n",
        "print(\"Rows having max element are : \",ind[0])"
      ],
      "metadata": {
        "colab": {
          "base_uri": "https://localhost:8080/"
        },
        "id": "h4ROOz_kBNEv",
        "outputId": "d186bc6c-f3a1-4d8e-e321-e7177282fbbd"
      },
      "execution_count": 54,
      "outputs": [
        {
          "output_type": "stream",
          "name": "stdout",
          "text": [
            "Rows having max element are :  [0 2 3]\n"
          ]
        }
      ]
    }
  ]
}