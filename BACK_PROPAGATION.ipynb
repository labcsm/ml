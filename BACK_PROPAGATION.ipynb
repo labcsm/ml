{
  "cells": [
    {
      "cell_type": "markdown",
      "metadata": {
        "id": "J3hs1rBmD7JU"
      },
      "source": [
        "## Importing Modules"
      ]
    },
    {
      "cell_type": "code",
      "execution_count": null,
      "metadata": {},
      "outputs": [],
      "source": [
        "import pandas as pd\n",
        "from sklearn.model_selection import train_test_split \n",
        "from sklearn.feature_extraction.text import CountVectorizer \n",
        "from sklearn.neural_network import MLPClassifier\n",
        "from sklearn.metrics import accuracy_score, confusion_matrix, precision_score, recall_score"
      ]
    },
    {
      "cell_type": "markdown",
      "metadata": {},
      "source": [
        "## Splitting the Dataset"
      ]
    },
    {
      "cell_type": "code",
      "execution_count": null,
      "metadata": {},
      "outputs": [],
      "source": [
        "msg = pd.read_csv('document.csv', names=['message', 'label']) \n",
        "print(\"Total Instances of Dataset: \",msg.shape[0])\n",
        "msg['labelnum'] = msg.label.map({'pos': 1, 'neg': 0})\n",
        "X = msg.message \n",
        "y = msg.labelnum\n",
        "Xtrain, Xtest, ytrain, ytest = train_test_split(X, y)\n",
        "count_v = CountVectorizer()"
      ]
    },
    {
      "cell_type": "markdown",
      "metadata": {},
      "source": [
        "## Training the Model"
      ]
    },
    {
      "cell_type": "code",
      "execution_count": null,
      "metadata": {},
      "outputs": [],
      "source": [
        "Xtrain_dm = count_v.fit_transform(Xtrain) \n",
        "Xtest_dm = count_v.transform(Xtest)\n",
        "df = pd.DataFrame(Xtrain_dm.toarray(),columns=count_v.get_feature_names_out())\n",
        "clf = MLPClassifier(solver='lbfgs', alpha=1e-5,hidden_layer_sizes=(5, 2), random_state=1) \n",
        "clf.fit(Xtrain_dm, ytrain)"
      ]
    },
    {
      "cell_type": "markdown",
      "metadata": {},
      "source": [
        "## Prediction"
      ]
    },
    {
      "cell_type": "code",
      "execution_count": null,
      "metadata": {},
      "outputs": [],
      "source": [
        "pred = clf.predict(Xtest_dm)\n",
        "print(pred)"
      ]
    },
    {
      "cell_type": "markdown",
      "metadata": {},
      "source": [
        "## Accuracy Metrics"
      ]
    },
    {
      "cell_type": "code",
      "execution_count": null,
      "metadata": {},
      "outputs": [],
      "source": [
        "print('Accuracy: ', accuracy_score(ytest, pred)) \n",
        "print('Recall: ', recall_score(ytest, pred)) \n",
        "print('Precision: ', precision_score(ytest, pred))\n",
        "print('Confusion Matrix: \\n', confusion_matrix(ytest, pred))"
      ]
    }
  ],
  "metadata": {
    "colab": {
      "provenance": []
    },
    "kernelspec": {
      "display_name": "Python 3",
      "name": "python3"
    },
    "language_info": {
      "name": "python"
    }
  },
  "nbformat": 4,
  "nbformat_minor": 0
}
