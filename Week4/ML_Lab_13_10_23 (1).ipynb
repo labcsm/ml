{
 "cells": [
  {
   "cell_type": "code",
   "execution_count": null,
   "id": "ad631ae6",
   "metadata": {
    "id": "ad631ae6"
   },
   "outputs": [],
   "source": [
    "pip install mysql-connector-python"
   ]
  },
  {
   "cell_type": "code",
   "execution_count": 6,
   "id": "631a1bd8",
   "metadata": {
    "id": "631a1bd8",
    "outputId": "7c69f3d7-e4fc-4696-b9b7-7248544ccac0"
   },
   "outputs": [
    {
     "name": "stdout",
     "output_type": "stream",
     "text": [
      "<mysql.connector.connection.MySQLConnection object at 0x000001A9897EBDD0>\n"
     ]
    }
   ],
   "source": [
    "import mysql.connector as m\n",
    "conn=m.connect( host=\"localhost\",\n",
    "  user=\"root\",\n",
    "  password=\"password\",)\n",
    "print(conn)"
   ]
  },
  {
   "cell_type": "markdown",
   "id": "9e3760be",
   "metadata": {},
   "source": [
    "## Creating DataBase using a cursor"
   ]
  },
  {
   "cell_type": "code",
   "execution_count": 7,
   "id": "ff3463bd",
   "metadata": {
    "id": "ff3463bd"
   },
   "outputs": [],
   "source": [
    "cur=conn.cursor()\n",
    "cur.execute(\"CREATE DATABASE CSM\")"
   ]
  },
  {
   "cell_type": "markdown",
   "id": "800b16b2",
   "metadata": {},
   "source": [
    "## Connecting to the DataBase"
   ]
  },
  {
   "cell_type": "code",
   "execution_count": 8,
   "id": "001d0e2a",
   "metadata": {
    "id": "001d0e2a",
    "outputId": "a8b912d9-1681-45e9-c3fd-dc8d77957d9d"
   },
   "outputs": [
    {
     "name": "stdout",
     "output_type": "stream",
     "text": [
      "<mysql.connector.connection.MySQLConnection object at 0x000001A9897F80D0>\n"
     ]
    }
   ],
   "source": [
    "db=m.connect(\n",
    "  host=\"localhost\",\n",
    "  user=\"root\",\n",
    "  password=\"password\",\n",
    "  database=\"CSM\")\n",
    "\n",
    "print(db)\n",
    "\n",
    "dbcur=db.cursor()"
   ]
  },
  {
   "cell_type": "markdown",
   "id": "d0b0bec7",
   "metadata": {},
   "source": [
    "## Creating a Table"
   ]
  },
  {
   "cell_type": "code",
   "execution_count": 12,
   "id": "e8ba3572",
   "metadata": {
    "id": "e8ba3572"
   },
   "outputs": [],
   "source": [
    "dbcur.execute(\"CREATE TABLE Products(Productname varchar(100),Cost int)\");"
   ]
  },
  {
   "cell_type": "code",
   "execution_count": 13,
   "id": "3ab3387d",
   "metadata": {
    "id": "3ab3387d",
    "outputId": "9f3bdb4a-96ce-4da5-bcab-7822fa6a05cc"
   },
   "outputs": [
    {
     "name": "stdout",
     "output_type": "stream",
     "text": [
      "('products',)\n"
     ]
    }
   ],
   "source": [
    "dbcur.execute(\"SHOW TABLES\")\n",
    "\n",
    "for q in dbcur:\n",
    "    print(q)"
   ]
  },
  {
   "cell_type": "markdown",
   "id": "062a0106",
   "metadata": {},
   "source": [
    "## Inserting Data into the Table"
   ]
  },
  {
   "cell_type": "code",
   "execution_count": 17,
   "id": "c2b18443",
   "metadata": {},
   "outputs": [
    {
     "name": "stdout",
     "output_type": "stream",
     "text": [
      "3 rows are inserted.\n"
     ]
    }
   ],
   "source": [
    "sql='INSERT INTO products (Productname,Cost) Values (%s,%s)'\n",
    "val=[('Pen',10),('Book',110),('Marker',30)]\n",
    "dbcur.executemany(sql,val)\n",
    "db.commit()\n",
    "\n",
    "print(dbcur.rowcount,\"rows are inserted.\")"
   ]
  },
  {
   "cell_type": "markdown",
   "id": "33c289a8",
   "metadata": {},
   "source": [
    "## Executing Some Basic Queries"
   ]
  },
  {
   "cell_type": "code",
   "execution_count": 18,
   "id": "c65e5dd6",
   "metadata": {
    "id": "c65e5dd6",
    "outputId": "faaecf2d-5f1a-4e52-f2df-f6fc6dc86f9a"
   },
   "outputs": [
    {
     "name": "stdout",
     "output_type": "stream",
     "text": [
      "('Pen', 10)\n",
      "('Book', 110)\n",
      "('Marker', 30)\n"
     ]
    }
   ],
   "source": [
    "dbcur.execute(\"SELECT * FROM products\")\n",
    "for row in dbcur:\n",
    "    print(row)"
   ]
  },
  {
   "cell_type": "code",
   "execution_count": 19,
   "id": "7495eac2",
   "metadata": {
    "id": "7495eac2",
    "outputId": "de8a2166-6ca4-4489-8fd5-7bb25aeb8ee7"
   },
   "outputs": [
    {
     "name": "stdout",
     "output_type": "stream",
     "text": [
      "('Pen',)\n",
      "('Marker',)\n"
     ]
    }
   ],
   "source": [
    "dbcur.execute(\"SELECT Productname FROM products where cost<50\")\n",
    "for row in dbcur:\n",
    "    print(row)"
   ]
  }
 ],
 "metadata": {
  "colab": {
   "provenance": []
  },
  "kernelspec": {
   "display_name": "Python 3 (ipykernel)",
   "language": "python",
   "name": "python3"
  },
  "language_info": {
   "codemirror_mode": {
    "name": "ipython",
    "version": 3
   },
   "file_extension": ".py",
   "mimetype": "text/x-python",
   "name": "python",
   "nbconvert_exporter": "python",
   "pygments_lexer": "ipython3",
   "version": "3.11.4"
  }
 },
 "nbformat": 4,
 "nbformat_minor": 5
}
